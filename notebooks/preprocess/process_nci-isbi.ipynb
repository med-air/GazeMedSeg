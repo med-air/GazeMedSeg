{
 "cells": [
  {
   "cell_type": "code",
   "execution_count": 2,
   "metadata": {},
   "outputs": [],
   "source": [
    "import pandas as pd\n",
    "import os\n",
    "import glob\n",
    "import numpy as np\n",
    "import matplotlib.pyplot as plt\n",
    "import nrrd\n",
    "import pydicom as dicom\n",
    "from PIL import Image"
   ]
  },
  {
   "cell_type": "code",
   "execution_count": 3,
   "metadata": {},
   "outputs": [],
   "source": [
    "# NOTE: the downloaded dataset should be put into \"[root]/raw\"\n",
    "root = \"PUT YOUR PATH OF NCI-ISBI DATASET HERE\"\n",
    "root = \"/home/yesindeed/Desktop/NCI-ISBI-2013\"\n",
    "\n",
    "img_path = os.path.join(root, \"images\")\n",
    "mask_path = os.path.join(root, \"masks\")\n",
    "\n",
    "if not os.path.exists(img_path):\n",
    "    os.makedirs(img_path)\n",
    "\n",
    "if not os.path.exists(mask_path):\n",
    "    os.makedirs(mask_path)"
   ]
  },
  {
   "cell_type": "markdown",
   "metadata": {},
   "source": [
    "# Process Training Set"
   ]
  },
  {
   "cell_type": "code",
   "execution_count": 4,
   "metadata": {},
   "outputs": [
    {
     "name": "stdout",
     "output_type": "stream",
     "text": [
      "case ProstateDx-01-0055: mask shape (400, 400, 23) while num slices 34\n"
     ]
    }
   ],
   "source": [
    "import shutil\n",
    "\n",
    "img_ids = []\n",
    "\n",
    "train_raw_root = os.path.join(root, \"raw\", \"ISBI-Prostate-Training\", \"manifest-ZqaK9xEy8795217829022780222\")\n",
    "train_seg_root = os.path.join(root, \"raw\", \"NCI-ISBI-2013-Prostate-Challenge-Training\")\n",
    "\n",
    "df_train_raw = pd.read_csv(os.path.join(train_raw_root, \"metadata.csv\"))\n",
    "\n",
    "for case_path, num_slices in zip(df_train_raw[\"File Location\"].tolist(), df_train_raw[\"Number of Images\"].tolist()):\n",
    "    case = case_path.split(\"/\")[2]\n",
    "\n",
    "    mask_vol = nrrd.read(glob.glob(os.path.join(train_seg_root, f\"{case}*.nrrd\"))[0])[0]\n",
    "\n",
    "    if mask_vol.shape[-1] != num_slices:\n",
    "        print(f\"case {case}: mask shape {mask_vol.shape} while num slices {num_slices}\")\n",
    "        continue\n",
    "\n",
    "    for i in range(num_slices):\n",
    "        mask = np.transpose(mask_vol[:, :, i])\n",
    "\n",
    "        if np.max(mask) > 0:\n",
    "            dcm_file_name = glob.glob(os.path.join(train_raw_root, case_path, f\"*{i+1}.dcm\"))[0]\n",
    "            image = dicom.dcmread(dcm_file_name).pixel_array\n",
    "            shutil.copy(dcm_file_name, os.path.join(root, \"images\", f\"{case}_{i+1}.dcm\"))\n",
    "\n",
    "            mask = Image.fromarray(np.uint8(((mask >= 1)).astype(np.int8) * 255), \"L\")\n",
    "            mask.save(os.path.join(root, \"masks\", f\"{case}_{i+1}.png\"))\n",
    "\n",
    "            img_ids.append(f\"{case}_{i+1}\")\n",
    "\n",
    "np.random.shuffle(img_ids)\n",
    "\n",
    "df_train = pd.DataFrame(img_ids)\n",
    "df_train.to_csv(os.path.join(root, \"train.txt\"), header=None, index=False, sep=\" \")"
   ]
  },
  {
   "cell_type": "markdown",
   "metadata": {},
   "source": [
    "# Process Testing Set"
   ]
  },
  {
   "cell_type": "code",
   "execution_count": 5,
   "metadata": {},
   "outputs": [],
   "source": [
    "img_ids = []\n",
    "\n",
    "test_raw_root = os.path.join(root, \"raw\", \"ISBI-Prostate-Testing\", \"manifest-WTWyB8IJ8830296727402453766\")\n",
    "test_seg_root = os.path.join(root, \"raw\", \"NCI-ISBI-2013-Prostate-Challenge-Testing\")\n",
    "\n",
    "df_test_raw = pd.read_csv(os.path.join(test_raw_root, \"metadata.csv\"))\n",
    "\n",
    "for case_path, num_slices in zip(df_test_raw[\"File Location\"].tolist(), df_test_raw[\"Number of Images\"].tolist()):\n",
    "    case = case_path.split(\"/\")[2]\n",
    "\n",
    "    mask_vol = nrrd.read(glob.glob(os.path.join(test_seg_root, f\"{case}*.nrrd\"))[0])[0]\n",
    "\n",
    "    if mask_vol.shape[-1] != num_slices:\n",
    "        print(f\"case {case}: mask shape {mask_vol.shape} while num slices {num_slices}\")\n",
    "        continue\n",
    "\n",
    "    for i in range(num_slices):\n",
    "        mask = np.transpose(mask_vol[:, :, i])\n",
    "\n",
    "        if np.max(mask) > 0:\n",
    "            dcm_file_name = glob.glob(os.path.join(test_raw_root, case_path, f\"*{i+1}.dcm\"))[0]\n",
    "            image = dicom.dcmread(dcm_file_name).pixel_array\n",
    "            shutil.copy(dcm_file_name, os.path.join(root, \"images\", f\"{case}_{i+1}.dcm\"))\n",
    "\n",
    "            mask = Image.fromarray(np.uint8(((mask >= 1)).astype(np.int8) * 255), \"L\")\n",
    "            mask.save(os.path.join(root, \"masks\", f\"{case}_{i+1}.png\"))\n",
    "\n",
    "            img_ids.append(f\"{case}_{i+1}\")\n",
    "\n",
    "df_test = pd.DataFrame(img_ids)\n",
    "df_test.to_csv(os.path.join(root, \"test.txt\"), header=None, index=False, sep=\" \")"
   ]
  },
  {
   "cell_type": "code",
   "execution_count": null,
   "metadata": {},
   "outputs": [],
   "source": []
  }
 ],
 "metadata": {
  "kernelspec": {
   "display_name": "gaze",
   "language": "python",
   "name": "python3"
  },
  "language_info": {
   "codemirror_mode": {
    "name": "ipython",
    "version": 3
   },
   "file_extension": ".py",
   "mimetype": "text/x-python",
   "name": "python",
   "nbconvert_exporter": "python",
   "pygments_lexer": "ipython3",
   "version": "3.9.16"
  }
 },
 "nbformat": 4,
 "nbformat_minor": 2
}
