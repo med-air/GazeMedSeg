{
 "cells": [
  {
   "cell_type": "code",
   "execution_count": 1,
   "metadata": {},
   "outputs": [],
   "source": [
    "import numpy as np\n",
    "import os\n",
    "import glob\n",
    "import matplotlib.pyplot as plt\n",
    "from matplotlib import image\n",
    "from scipy.spatial.distance import cdist\n",
    "from PIL import Image\n",
    "from tqdm import tqdm\n",
    "import pandas as pd\n",
    "from scipy import ndimage\n",
    "import cv2\n",
    "\n",
    "import warnings\n",
    "\n",
    "warnings.filterwarnings(\"ignore\")"
   ]
  },
  {
   "cell_type": "code",
   "execution_count": 2,
   "metadata": {},
   "outputs": [],
   "source": [
    "root = \"PUT YOUR PATH OF NCI-ISBI DATASET HERE\"\n",
    "# exapmle: root = \"/home/yesindeed/Desktop/NCI-ISBI-2013\""
   ]
  },
  {
   "cell_type": "markdown",
   "metadata": {},
   "source": [
    "# 1. Generate Heatmaps\n",
    "\n",
    "We thank Yao et al [1] for their code of gaze heatmap generation.\n",
    "\n",
    "[1] Rong, Yao, et al. \"Human attention in fine-grained classification.\" BMVC 2021."
   ]
  },
  {
   "cell_type": "code",
   "execution_count": 8,
   "metadata": {},
   "outputs": [],
   "source": [
    "def gaussian(x, sx, y=None, sy=None):\n",
    "    \"\"\"Returns an array of np arrays (a matrix) containing values between\n",
    "    1 and 0 in a 2D Gaussian distribution\n",
    "    arguments\n",
    "    x\t\t-- width in pixels\n",
    "    sx\t\t-- width standard deviation\n",
    "    keyword argments\n",
    "    y\t\t-- height in pixels (default = x)\n",
    "    sy\t\t-- height standard deviation (default = sx)\n",
    "    \"\"\"\n",
    "\n",
    "    # square Gaussian if only x values are passed\n",
    "    if y == None:\n",
    "        y = x\n",
    "    if sy == None:\n",
    "        sy = sx\n",
    "    # centers\n",
    "    xo = x / 2\n",
    "    yo = y / 2\n",
    "    # matrix of zeros\n",
    "    M = np.zeros([y, x], dtype=float)\n",
    "    # gaussian matrix\n",
    "    for i in range(x):\n",
    "        for j in range(y):\n",
    "            M[j, i] = np.exp(-1.0 * (((float(i) - xo) ** 2 / (2 * sx * sx)) + ((float(j) - yo) ** 2 / (2 * sy * sy))))\n",
    "\n",
    "    return M\n",
    "\n",
    "\n",
    "def normalize_map(s_map):\n",
    "    norm_s_map = (s_map - np.min(s_map)) / ((np.max(s_map) - np.min(s_map)) * 1.0)\n",
    "    return norm_s_map\n",
    "\n",
    "\n",
    "def draw_heatmap(normed_gazepoints, originalsize, org_img_size=(768, 768), kernel_size=70):\n",
    "    heatmap = np.zeros(org_img_size, dtype=np.float32)\n",
    "\n",
    "    for p in normed_gazepoints:\n",
    "        x = round(p[0] * org_img_size[1]) - 1\n",
    "        y = round(p[1] * org_img_size[0]) - 1\n",
    "\n",
    "        heatmap[y, x] += p[2]\n",
    "        # heatmap[y, x] += 1\n",
    "\n",
    "    heatmap = ndimage.filters.gaussian_filter(heatmap, kernel_size)\n",
    "    heatmap = normalize_map(heatmap)\n",
    "    heatmap = cv2.resize(heatmap, dsize=(originalsize[1], originalsize[0]), interpolation=cv2.INTER_CUBIC)\n",
    "\n",
    "    return heatmap.astype(np.float16)"
   ]
  },
  {
   "cell_type": "code",
   "execution_count": 12,
   "metadata": {},
   "outputs": [
    {
     "name": "stderr",
     "output_type": "stream",
     "text": [
      "0it [00:00, ?it/s]"
     ]
    },
    {
     "name": "stderr",
     "output_type": "stream",
     "text": [
      "789it [03:35,  3.66it/s]\n"
     ]
    }
   ],
   "source": [
    "df_gaze = pd.read_csv(\"../../GazeMedSeg/nci-isbi_fixation.csv\")\n",
    "\n",
    "for i, (name, group) in tqdm(enumerate(df_gaze.groupby(\"IMAGE\"))):\n",
    "    img_file = group[\"IMAGE\"].tolist()[0]\n",
    "    org_img_size = (int(group[\"IMAGE_HEIGHT\"].tolist()[0]), int(group[\"IMAGE_WIDTH\"].tolist()[0]))\n",
    "\n",
    "    gaze_list = np.array(\n",
    "        df_gaze.loc[\n",
    "            df_gaze[\"IMAGE\"] == img_file,\n",
    "            [\"CURRENT_FIX_X\", \"CURRENT_FIX_Y\", \"CURRENT_FIX_DURATION\"],\n",
    "        ]\n",
    "    )\n",
    "    heatmap = draw_heatmap(gaze_list, org_img_size, kernel_size=50)\n",
    "\n",
    "    gt = Image.open(os.path.join(root, \"masks\", img_file.replace(\".jpg\", \".png\"))).convert(\"L\")\n",
    "\n",
    "    gt_array = np.array(gt) / 255\n",
    "\n",
    "    save_folder = os.path.join(root, \"gaze\", \"heatmap\")\n",
    "    if not os.path.exists(save_folder):\n",
    "        os.makedirs(save_folder)\n",
    "\n",
    "    heatmap_img = Image.fromarray((heatmap * 255).astype(np.uint8))\n",
    "    heatmap_img.save(os.path.join(save_folder, img_file.replace(\".jpg\", \".png\")))"
   ]
  },
  {
   "cell_type": "markdown",
   "metadata": {},
   "source": [
    "# 2. Refine Heatmap with CRF"
   ]
  },
  {
   "cell_type": "code",
   "execution_count": 10,
   "metadata": {},
   "outputs": [],
   "source": [
    "import pydensecrf.densecrf as dcrf\n",
    "from pydensecrf.utils import unary_from_softmax"
   ]
  },
  {
   "cell_type": "code",
   "execution_count": 11,
   "metadata": {},
   "outputs": [],
   "source": [
    "def crf_inference(img, probs, t=10, scale_factor=1, compat=1.5):\n",
    "    h, w = probs.shape\n",
    "\n",
    "    probs = probs[None, :, :]\n",
    "    probs = np.concatenate([1 - probs, probs], axis=0)\n",
    "\n",
    "    d = dcrf.DenseCRF2D(w, h, 2)\n",
    "    # unary = fake_prob.reshape((2, -1))\n",
    "    unary = unary_from_softmax(probs)\n",
    "    # unary = np.ascontiguousarray(unary)\n",
    "\n",
    "    d.setUnaryEnergy(unary)\n",
    "    # d.addPairwiseGaussian(3/scale_factor, compat=10)\n",
    "    d.addPairwiseBilateral(sxy=80 / scale_factor, srgb=13,\n",
    "                           rgbim=np.copy(img), compat=compat)\n",
    "\n",
    "    Q = d.inference(t)\n",
    "    # crf = np.argmax(Q, axis=0).reshape((h, w))\n",
    "    crf = np.array(Q)[1].reshape((h, w))\n",
    "\n",
    "    return crf"
   ]
  },
  {
   "cell_type": "code",
   "execution_count": 14,
   "metadata": {},
   "outputs": [
    {
     "name": "stderr",
     "output_type": "stream",
     "text": [
      "0it [00:00, ?it/s]"
     ]
    },
    {
     "name": "stderr",
     "output_type": "stream",
     "text": [
      "789it [02:03,  6.41it/s]\n"
     ]
    }
   ],
   "source": [
    "import pydicom as dicom\n",
    "\n",
    "scale_factor = 1\n",
    "t = 10\n",
    "compat = 1\n",
    "\n",
    "for i, path in tqdm(enumerate(glob.glob(os.path.join(root, \"gaze\", \"heatmap\", \"*.png\")))):\n",
    "    path = os.path.basename(path).split(\".\")[0]\n",
    "\n",
    "    img = dicom.dcmread(os.path.join(root, \"images\", f\"{path}.dcm\")).pixel_array.astype(np.float32)\n",
    "    img = (img - img.min()) / (img.max() - img.min()) * 255\n",
    "    img = Image.fromarray(img.astype(np.uint8)).convert(\"RGB\")\n",
    "    img = np.array(img)\n",
    "    gt = np.array(Image.open(os.path.join(root, \"masks\", f\"{path}.png\")).convert(\"L\"))\n",
    "\n",
    "    heatmap = Image.open(os.path.join(root, \"gaze\", \"heatmap\", f\"{path}.png\")).convert(\"L\")\n",
    "    heatmap = np.array(heatmap).astype(np.float32) / 255\n",
    "\n",
    "    crf_map = crf_inference(img, heatmap, t=t, scale_factor=scale_factor, compat=compat)\n",
    "    save_folder = os.path.join(root, \"gaze\", f\"crf_compat{compat}\")\n",
    "    if not os.path.exists(save_folder):\n",
    "        os.makedirs(save_folder)\n",
    "\n",
    "    crf_map_img = Image.fromarray((crf_map * 255).astype(np.uint8))\n",
    "    crf_map_img.save(os.path.join(save_folder, f\"{path}.png\"))"
   ]
  },
  {
   "cell_type": "markdown",
   "metadata": {},
   "source": [
    "# 3. Assess Gaze Annotation Quality (Optional)"
   ]
  },
  {
   "cell_type": "code",
   "execution_count": 16,
   "metadata": {},
   "outputs": [
    {
     "name": "stdout",
     "output_type": "stream",
     "text": [
      "Heatmap Dice: 0.7920979406427813\n",
      "CRF Dice: 0.6660311237431557\n"
     ]
    }
   ],
   "source": [
    "def compute_dice(pred, gt):\n",
    "    inter = np.sum(pred * gt)\n",
    "\n",
    "    dice = 2 * inter / (np.sum(pred) + np.sum(gt) + 1e-6)\n",
    "\n",
    "    return dice\n",
    "\n",
    "\n",
    "dice_crf_l = {}\n",
    "dice_heatmap_l = {}\n",
    "\n",
    "thres = 0.5\n",
    "\n",
    "for i, path in enumerate(glob.glob(os.path.join(root, \"gaze\", \"heatmap\", \"*.png\"))):\n",
    "    path = os.path.basename(path).split(\".\")[0]\n",
    "    gt = np.array(Image.open(os.path.join(\n",
    "        root, \"masks\", f\"{path}.png\")).convert(\"L\"))\n",
    "    heatmap = np.array(Image.open(os.path.join(\n",
    "        root, \"gaze\", \"heatmap\", f\"{path}.png\")).convert(\"L\"))\n",
    "    crf_map = np.array(Image.open(os.path.join(\n",
    "        root, \"gaze\", f\"crf_compat{compat}\", f\"{path}.png\")).convert(\"L\"))\n",
    "\n",
    "    heatmap = heatmap.astype(np.float32) / 255\n",
    "    crf_map = crf_map.astype(np.float32) / 255\n",
    "\n",
    "    dice_heatmap = compute_dice(heatmap > thres, gt.astype(np.float32) / 255)\n",
    "    dice_crf = compute_dice(crf_map > thres, gt.astype(np.float32) / 255)\n",
    "\n",
    "    dice_crf_l[path] = dice_crf\n",
    "    dice_heatmap_l[path] = dice_heatmap\n",
    "\n",
    "print(f\"Heatmap Dice: {np.mean(list(dice_heatmap_l.values()))}\")\n",
    "print(f\"CRF Dice: {np.mean(list(dice_crf_l.values()))}\")"
   ]
  },
  {
   "cell_type": "code",
   "execution_count": null,
   "metadata": {},
   "outputs": [],
   "source": []
  }
 ],
 "metadata": {
  "kernelspec": {
   "display_name": "gaze",
   "language": "python",
   "name": "python3"
  },
  "language_info": {
   "codemirror_mode": {
    "name": "ipython",
    "version": 3
   },
   "file_extension": ".py",
   "mimetype": "text/x-python",
   "name": "python",
   "nbconvert_exporter": "python",
   "pygments_lexer": "ipython3",
   "version": "3.9.16"
  },
  "orig_nbformat": 4,
  "vscode": {
   "interpreter": {
    "hash": "4e91c17c6a30d2f30993caf12c6d617526197a8362eb2a931e50d4f0a065aa24"
   }
  }
 },
 "nbformat": 4,
 "nbformat_minor": 2
}
